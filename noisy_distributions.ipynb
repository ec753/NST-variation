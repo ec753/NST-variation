{
 "cells": [
  {
   "cell_type": "code",
   "execution_count": 3,
   "id": "3d21ba82",
   "metadata": {},
   "outputs": [],
   "source": [
    "import numpy as np\n",
    "import matplotlib.pyplot as plt"
   ]
  },
  {
   "cell_type": "code",
   "execution_count": null,
   "id": "8c7fe03c",
   "metadata": {},
   "outputs": [],
   "source": []
  },
  {
   "cell_type": "code",
   "execution_count": 71,
   "id": "73e4738d",
   "metadata": {},
   "outputs": [
    {
     "data": {
      "text/plain": [
       "(array([  3.,   3.,   8.,   8.,  18.,  26.,  27.,  40.,  51.,  67.,  83.,\n",
       "         85.,  89., 100.,  81.,  86., 104.,  90.,  79.,  84.,  77.,  60.,\n",
       "         65.,  59.,  43.,  48.,  36.,  44.,  28.,  27.,  41.,  24.,  23.,\n",
       "         24.,  18.,  22.,  13.,  17.,  16.,  13.,  10.,  15.,  11.,  11.,\n",
       "         10.,  10.,   6.,   8.,   9.,   8.,   9.,   2.,   8.,   5.,   7.,\n",
       "          7.,   2.,   1.,   1.,   5.,   4.,   0.,   1.,   1.,   1.,   1.,\n",
       "          1.,   2.,   0.,   0.,   0.,   1.,   1.,   2.,   2.,   0.,   1.,\n",
       "          1.,   1.,   0.,   1.,   0.,   0.,   1.,   0.,   0.,   0.,   1.,\n",
       "          0.,   0.,   0.,   0.,   0.,   1.,   0.,   0.,   0.,   0.,   0.,\n",
       "          1.]),\n",
       " array([ 2.52239894,  2.7808252 ,  3.03925145,  3.2976777 ,  3.55610395,\n",
       "         3.8145302 ,  4.07295645,  4.3313827 ,  4.58980895,  4.8482352 ,\n",
       "         5.10666145,  5.3650877 ,  5.62351395,  5.8819402 ,  6.14036646,\n",
       "         6.39879271,  6.65721896,  6.91564521,  7.17407146,  7.43249771,\n",
       "         7.69092396,  7.94935021,  8.20777646,  8.46620271,  8.72462896,\n",
       "         8.98305521,  9.24148147,  9.49990772,  9.75833397, 10.01676022,\n",
       "        10.27518647, 10.53361272, 10.79203897, 11.05046522, 11.30889147,\n",
       "        11.56731772, 11.82574397, 12.08417022, 12.34259647, 12.60102273,\n",
       "        12.85944898, 13.11787523, 13.37630148, 13.63472773, 13.89315398,\n",
       "        14.15158023, 14.41000648, 14.66843273, 14.92685898, 15.18528523,\n",
       "        15.44371148, 15.70213774, 15.96056399, 16.21899024, 16.47741649,\n",
       "        16.73584274, 16.99426899, 17.25269524, 17.51112149, 17.76954774,\n",
       "        18.02797399, 18.28640024, 18.54482649, 18.80325274, 19.061679  ,\n",
       "        19.32010525, 19.5785315 , 19.83695775, 20.095384  , 20.35381025,\n",
       "        20.6122365 , 20.87066275, 21.129089  , 21.38751525, 21.6459415 ,\n",
       "        21.90436775, 22.162794  , 22.42122026, 22.67964651, 22.93807276,\n",
       "        23.19649901, 23.45492526, 23.71335151, 23.97177776, 24.23020401,\n",
       "        24.48863026, 24.74705651, 25.00548276, 25.26390901, 25.52233527,\n",
       "        25.78076152, 26.03918777, 26.29761402, 26.55604027, 26.81446652,\n",
       "        27.07289277, 27.33131902, 27.58974527, 27.84817152, 28.10659777,\n",
       "        28.36502402]),\n",
       " <BarContainer object of 100 artists>)"
      ]
     },
     "execution_count": 71,
     "metadata": {},
     "output_type": "execute_result"
    },
    {
     "data": {
      "image/png": "[encoded data removed]",
      "text/plain": [
       "<Figure size 720x120 with 1 Axes>"
      ]
     },
     "metadata": {
      "needs_background": "light"
     },
     "output_type": "display_data"
    }
   ],
   "source": [
    "n = 2000\n",
    "plt.figure(figsize = (10, 15/9))\n",
    "data = 3*np.random.exponential(1,n) + np.abs(np.random.normal(5,1,n))\n",
    "\n",
    "plt.hist(data, bins=100)"
   ]
  },
  {
   "cell_type": "code",
   "execution_count": null,
   "id": "6128aa0a",
   "metadata": {},
   "outputs": [],
   "source": []
  },
  {
   "cell_type": "code",
   "execution_count": null,
   "id": "c14b7d2b",
   "metadata": {},
   "outputs": [],
   "source": []
  }
 ],
 "metadata": {
  "kernelspec": {
   "display_name": "Python 3 (ipykernel)",
   "language": "python",
   "name": "python3"
  },
  "language_info": {
   "codemirror_mode": {
    "name": "ipython",
    "version": 3
   },
   "file_extension": ".py",
   "mimetype": "text/x-python",
   "name": "python",
   "nbconvert_exporter": "python",
   "pygments_lexer": "ipython3",
   "version": "3.8.10"
  }
 },
 "nbformat": 4,
 "nbformat_minor": 5
}

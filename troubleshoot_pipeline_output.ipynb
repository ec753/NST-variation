{
 "cells": [
  {
   "cell_type": "code",
   "execution_count": 27,
   "id": "c58e615f",
   "metadata": {},
   "outputs": [],
   "source": [
    "import pickle as pkl\n",
    "import matplotlib.pyplot as plt\n",
    "import numpy as np\n",
    "import json\n",
    "import math\n",
    "import matplotlib"
   ]
  },
  {
   "cell_type": "code",
   "execution_count": 23,
   "id": "e758edc2",
   "metadata": {},
   "outputs": [],
   "source": [
    "with open('./scripts/data/preceding_stimuli/experiment_train_48.json') as json_file:\n",
    "    experiment = json.load(json_file)\n",
    "\n",
    "rPSTs = pkl.load(open('./scripts/data/output/rPSTs_48.pkl', 'rb'))\n",
    "\n",
    "rNSTs = np.load('./scripts/data/output/rNSTs_48.txt.npy')\n",
    "rNSTs[rNSTs == 'na'] = np.nan\n",
    "rNSTs = rNSTs.astype(float)"
   ]
  },
  {
   "cell_type": "code",
   "execution_count": 21,
   "id": "60578056",
   "metadata": {},
   "outputs": [
    {
     "data": {
      "text/plain": [
       "dict_keys(['ind', 'sampled_spike', 'preceding_stimuli', 'preceding_spikes'])"
      ]
     },
     "execution_count": 21,
     "metadata": {},
     "output_type": "execute_result"
    }
   ],
   "source": [
    "experiment.keys()"
   ]
  },
  {
   "cell_type": "code",
   "execution_count": 29,
   "id": "50d5624c",
   "metadata": {},
   "outputs": [
    {
     "data": {
      "image/png": "[encoded data removed]",
      "text/plain": [
       "<Figure size 1080x720 with 9 Axes>"
      ]
     },
     "metadata": {
      "needs_background": "light"
     },
     "output_type": "display_data"
    }
   ],
   "source": [
    "plt.rcParams.update({'font.size': 18})\n",
    "def view_preceding_stims_walk(preceding_stims, resulting_NSTs, rPSTs, pivot):\n",
    "    fig, axes = plt.subplots(len(preceding_stims) - 1,1, figsize = (15,10), sharex = True)\n",
    "\n",
    "    # get the latest spike time to set the xlim\n",
    "    latest_spike_time = np.nanmax(resulting_NSTs)\n",
    "\n",
    "    for i in range(1, len(preceding_stims)):\n",
    "        i_ax = i - 1\n",
    "        # xlims\n",
    "        left_buffer = 2\n",
    "        axes[i_ax].set_xlim([math.floor(preceding_stims[0]) - left_buffer, latest_spike_time + 2])\n",
    "        \n",
    "        # uncertain history window\n",
    "        left = preceding_stims[0] - left_buffer\n",
    "        bottom = 0\n",
    "        width = left_buffer + preceding_stims[len(preceding_stims) - 1 - i] - preceding_stims[0]\n",
    "        height = 1\n",
    "        axes[i_ax].add_patch(matplotlib.patches.Rectangle((left - 10,bottom), width + 10, height, color=\"black\", alpha = 0.5)) # add anextra 10 buffer so there isn't any white space\n",
    "        \n",
    "        # certain history window\n",
    "        left = left + width\n",
    "        width = 0 - left\n",
    "        axes[i_ax].add_patch(matplotlib.patches.Rectangle((left,bottom), width, height, color=\"red\", alpha = 0.2))\n",
    "        \n",
    "        # output window\n",
    "        left = left + width\n",
    "        width = 100\n",
    "        axes[i_ax].add_patch(matplotlib.patches.Rectangle((left,bottom), width, height, color=\"gold\", alpha = 0.3))\n",
    "\n",
    "        # output spikes\n",
    "        axes[i_ax].vlines(resulting_NSTs[i,:], 0, 1, color = 'green')\n",
    "        \n",
    "        # pre-last-stimulus spikes\n",
    "        axes[i_ax].vlines(rPSTs[i], 0, 1, color = 'limegreen')\n",
    "\n",
    "        # stimuli\n",
    "        axes[i_ax].vlines(preceding_stims[-i-1:], 0, 1, color = 'blue')\n",
    "        axes[i_ax].vlines(preceding_stims[-i-1:][-1], 0, 1, color = 'cyan')\n",
    "\n",
    "        # pivot spike\n",
    "        axes[i_ax].vlines(pivot, 0, 1, color = 'fuchsia')\n",
    "\n",
    "        # set axes ticks and such\n",
    "        if i != len(preceding_stims) - 1:\n",
    "            axes[i_ax].set_xticks([])\n",
    "        else:\n",
    "            axes[i_ax].set_xlabel('time (ms)')\n",
    "\n",
    "        axes[i_ax].set_ylabel(str(i+1) + '     ', rotation = 0)\n",
    "        axes[i_ax].set_yticks([])\n",
    "        \n",
    "        axes[i_ax].set_ylim(.1,.2)\n",
    "    last_x_tick = math.floor(preceding_stims[0]/10)*10\n",
    "    axes[-1].set_xticks(range(last_x_tick,20,10))\n",
    "    plt.show()\n",
    "    \n",
    "    return\n",
    "\n",
    "ind = 38\n",
    "view_preceding_stims_walk(experiment['preceding_stimuli'], rNSTs, rPSTs, experiment['sampled_spike'])"
   ]
  }
 ],
 "metadata": {
  "kernelspec": {
   "display_name": "Python 3 (ipykernel)",
   "language": "python",
   "name": "python3"
  },
  "language_info": {
   "codemirror_mode": {
    "name": "ipython",
    "version": 3
   },
   "file_extension": ".py",
   "mimetype": "text/x-python",
   "name": "python",
   "nbconvert_exporter": "python",
   "pygments_lexer": "ipython3",
   "version": "3.8.10"
  }
 },
 "nbformat": 4,
 "nbformat_minor": 5
}
